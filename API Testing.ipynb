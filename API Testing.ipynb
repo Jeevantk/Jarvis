{
 "cells": [
  {
   "cell_type": "code",
   "execution_count": 1,
   "metadata": {
    "collapsed": true
   },
   "outputs": [],
   "source": [
    "import httplib, urllib, base64, json\n",
    "subscription_key = 'c51069da5b03419d98175a1dced2fbba'"
   ]
  },
  {
   "cell_type": "code",
   "execution_count": 2,
   "metadata": {
    "collapsed": true
   },
   "outputs": [],
   "source": [
    "headers = {\n",
    "    'Content-Type': 'application/json',\n",
    "    'Ocp-Apim-Subscription-Key': subscription_key,\n",
    "}"
   ]
  },
  {
   "cell_type": "code",
   "execution_count": 16,
   "metadata": {
    "collapsed": true
   },
   "outputs": [],
   "source": [
    "params = urllib.urlencode({\n",
    "    'returnFaceId': 'true',\n",
    "    'returnFaceLandmarks': 'false',\n",
    "    'returnFaceAttributes': 'age,gender,glasses',\n",
    "})\n",
    "\n",
    "body = \"{'url':'https://images.pexels.com/photos/415829/pexels-photo-415829.jpeg?w=940&h=650&auto=compress&cs=tinysrgb'}\"\n"
   ]
  },
  {
   "cell_type": "code",
   "execution_count": 17,
   "metadata": {},
   "outputs": [
    {
     "name": "stdout",
     "output_type": "stream",
     "text": [
      "Response:\n",
      "[\n",
      "  {\n",
      "    \"faceAttributes\": {\n",
      "      \"age\": 24.7, \n",
      "      \"gender\": \"female\", \n",
      "      \"glasses\": \"NoGlasses\"\n",
      "    }, \n",
      "    \"faceId\": \"2ccb4f50-0b20-4d62-9dbf-073de1ec3fa5\", \n",
      "    \"faceRectangle\": {\n",
      "      \"height\": 234, \n",
      "      \"left\": 229, \n",
      "      \"top\": 154, \n",
      "      \"width\": 234\n",
      "    }\n",
      "  }\n",
      "]\n"
     ]
    }
   ],
   "source": [
    "try:\n",
    "    # Execute the REST API call and get the response.\n",
    "    conn = httplib.HTTPSConnection('westcentralus.api.cognitive.microsoft.com')\n",
    "    conn.request(\"POST\", \"/face/v1.0/detect?%s\" % params, body, headers)\n",
    "    response = conn.getresponse()\n",
    "    data = response.read()\n",
    "\n",
    "    # 'data' contains the JSON data. The following formats the JSON data for display.\n",
    "    parsed = json.loads(data)\n",
    "    print (\"Response:\")\n",
    "    print (json.dumps(parsed, sort_keys=True, indent=2))\n",
    "    conn.close()\n",
    "\n",
    "except Exception as e:\n",
    "    print(\"[Errno {0}] {1}\".format(e.errno, e.strerror))"
   ]
  },
  {
   "cell_type": "code",
   "execution_count": null,
   "metadata": {},
   "outputs": [],
   "source": []
  },
  {
   "cell_type": "code",
   "execution_count": 19,
   "metadata": {},
   "outputs": [
    {
     "name": "stdout",
     "output_type": "stream",
     "text": [
      "Resource Not Found\n"
     ]
    }
   ],
   "source": [
    "########### Python 2.7 #############\n",
    "import httplib, urllib, base64\n",
    "\n",
    "headers = {\n",
    "    # Request headers.\n",
    "    'Content-Type': 'application/json',\n",
    "\n",
    "    # NOTE: Replace the \"Ocp-Apim-Subscription-Key\" value with a valid subscription key.\n",
    "    'Ocp-Apim-Subscription-Key': 'c51069da5b03419d98175a1dced2fbba',\n",
    "}\n",
    "\n",
    "# Replace 'examplegroupid' with an ID you haven't used for creating a group before.\n",
    "# The valid characters for the ID include numbers, English letters in lower case, '-' and '_'. \n",
    "# The maximum length of the ID is 64.\n",
    "personGroupId = 'examplegroupid'\n",
    "\n",
    "# The userData field is optional. The size limit for it is 16KB.\n",
    "body = \"{ 'name':'group1', 'userData':'user-provided data attached to the person group' }\"\n",
    "\n",
    "try:\n",
    "    # NOTE: You must use the same region in your REST call as you used to obtain your subscription keys.\n",
    "    #   For example, if you obtained your subscription keys from westus, replace \"westcentralus\" in the \n",
    "    #   URL below with \"westus\".\n",
    "    conn = httplib.HTTPSConnection('westcentralus.api.cognitive.microsoft.com')\n",
    "    conn.request(\"POST\", \"/face/v1.0/persongroups/%s\" % personGroupId, body, headers)\n",
    "    response = conn.getresponse()\n",
    "\n",
    "    # 'OK' indicates success. 'Conflict' means a group with this ID already exists.\n",
    "    # If you get 'Conflict', change the value of personGroupId above and try again.\n",
    "    # If you get 'Access Denied', verify the validity of the subscription key above and try again.\n",
    "    print(response.reason)\n",
    "\n",
    "    conn.close()\n",
    "except Exception as e:\n",
    "    print(\"[Errno {0}] {1}\".format(e.errno, e.strerror))\n",
    "####################################\n"
   ]
  },
  {
   "cell_type": "code",
   "execution_count": null,
   "metadata": {
    "collapsed": true
   },
   "outputs": [],
   "source": []
  }
 ],
 "metadata": {
  "kernelspec": {
   "display_name": "Python 2",
   "language": "python",
   "name": "python2"
  },
  "language_info": {
   "codemirror_mode": {
    "name": "ipython",
    "version": 2
   },
   "file_extension": ".py",
   "mimetype": "text/x-python",
   "name": "python",
   "nbconvert_exporter": "python",
   "pygments_lexer": "ipython2",
   "version": "2.7.12"
  }
 },
 "nbformat": 4,
 "nbformat_minor": 2
}
